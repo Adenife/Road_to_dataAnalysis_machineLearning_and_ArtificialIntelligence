{
 "cells": [
  {
   "cell_type": "code",
   "execution_count": 2,
   "metadata": {},
   "outputs": [],
   "source": [
    "import numpy as np\n",
    "import pandas as pd\n",
    "import matplotlib.pyplot as plt\n",
    "import seaborn as sns; sns.set()\n",
    "%matplotlib inline"
   ]
  },
  {
   "cell_type": "code",
   "execution_count": 3,
   "metadata": {},
   "outputs": [
    {
     "data": {
      "text/plain": [
       "array([[8.33333333],\n",
       "       [6.94444444],\n",
       "       [5.55555556],\n",
       "       [4.16666667]])"
      ]
     },
     "execution_count": 3,
     "metadata": {},
     "output_type": "execute_result"
    }
   ],
   "source": [
    "x = np.linspace(10,5,4)\n",
    "x = (x*25)/30\n",
    "x[:, np.newaxis]\n",
    "#np.array(x)"
   ]
  },
  {
   "cell_type": "code",
   "execution_count": 4,
   "metadata": {},
   "outputs": [
    {
     "data": {
      "text/plain": [
       "array([[0.79330658, 0.54224226, 0.39662141],\n",
       "       [0.49636262, 0.54221355, 0.43910567],\n",
       "       [0.98858846, 0.12014881, 0.95476915]])"
      ]
     },
     "execution_count": 4,
     "metadata": {},
     "output_type": "execute_result"
    }
   ],
   "source": [
    "y = np.random.random((3,3))\n",
    "y"
   ]
  },
  {
   "cell_type": "code",
   "execution_count": 5,
   "metadata": {},
   "outputs": [
    {
     "data": {
      "text/plain": [
       "[array([[0.79330658, 0.54224226, 0.39662141]]),\n",
       " array([[0.49636262, 0.54221355, 0.43910567]]),\n",
       " array([[0.98858846, 0.12014881, 0.95476915]])]"
      ]
     },
     "execution_count": 5,
     "metadata": {},
     "output_type": "execute_result"
    }
   ],
   "source": [
    "np.split(y,[1,2])"
   ]
  },
  {
   "cell_type": "code",
   "execution_count": 6,
   "metadata": {},
   "outputs": [
    {
     "data": {
      "text/html": [
       "<div>\n",
       "<style scoped>\n",
       "    .dataframe tbody tr th:only-of-type {\n",
       "        vertical-align: middle;\n",
       "    }\n",
       "\n",
       "    .dataframe tbody tr th {\n",
       "        vertical-align: top;\n",
       "    }\n",
       "\n",
       "    .dataframe thead th {\n",
       "        text-align: right;\n",
       "    }\n",
       "</style>\n",
       "<table border=\"1\" class=\"dataframe\">\n",
       "  <thead>\n",
       "    <tr style=\"text-align: right;\">\n",
       "      <th></th>\n",
       "      <th>me</th>\n",
       "      <th>you</th>\n",
       "    </tr>\n",
       "  </thead>\n",
       "  <tbody>\n",
       "    <tr>\n",
       "      <th>a</th>\n",
       "      <td>0.033928</td>\n",
       "      <td>0.438638</td>\n",
       "    </tr>\n",
       "    <tr>\n",
       "      <th>b</th>\n",
       "      <td>0.623766</td>\n",
       "      <td>0.835794</td>\n",
       "    </tr>\n",
       "    <tr>\n",
       "      <th>c</th>\n",
       "      <td>0.874902</td>\n",
       "      <td>0.554801</td>\n",
       "    </tr>\n",
       "    <tr>\n",
       "      <th>d</th>\n",
       "      <td>0.577355</td>\n",
       "      <td>0.421711</td>\n",
       "    </tr>\n",
       "    <tr>\n",
       "      <th>e</th>\n",
       "      <td>0.314628</td>\n",
       "      <td>0.949548</td>\n",
       "    </tr>\n",
       "  </tbody>\n",
       "</table>\n",
       "</div>"
      ],
      "text/plain": [
       "         me       you\n",
       "a  0.033928  0.438638\n",
       "b  0.623766  0.835794\n",
       "c  0.874902  0.554801\n",
       "d  0.577355  0.421711\n",
       "e  0.314628  0.949548"
      ]
     },
     "execution_count": 6,
     "metadata": {},
     "output_type": "execute_result"
    }
   ],
   "source": [
    "m = pd.DataFrame(np.random.rand(5,2),\n",
    "                index = ['a','b','c','d','e'],\n",
    "                columns = ['me','you'])\n",
    "m"
   ]
  },
  {
   "cell_type": "code",
   "execution_count": 7,
   "metadata": {},
   "outputs": [
    {
     "data": {
      "text/html": [
       "<div>\n",
       "<style scoped>\n",
       "    .dataframe tbody tr th:only-of-type {\n",
       "        vertical-align: middle;\n",
       "    }\n",
       "\n",
       "    .dataframe tbody tr th {\n",
       "        vertical-align: top;\n",
       "    }\n",
       "\n",
       "    .dataframe thead th {\n",
       "        text-align: right;\n",
       "    }\n",
       "</style>\n",
       "<table border=\"1\" class=\"dataframe\">\n",
       "  <thead>\n",
       "    <tr style=\"text-align: right;\">\n",
       "      <th></th>\n",
       "      <th>a</th>\n",
       "      <th>b</th>\n",
       "      <th>c</th>\n",
       "      <th>d</th>\n",
       "      <th>e</th>\n",
       "    </tr>\n",
       "  </thead>\n",
       "  <tbody>\n",
       "    <tr>\n",
       "      <th>0</th>\n",
       "      <td>0.750639</td>\n",
       "      <td>0.058822</td>\n",
       "      <td>0.235851</td>\n",
       "      <td>0.784497</td>\n",
       "      <td>0.057963</td>\n",
       "    </tr>\n",
       "    <tr>\n",
       "      <th>1</th>\n",
       "      <td>0.546673</td>\n",
       "      <td>0.540018</td>\n",
       "      <td>0.145670</td>\n",
       "      <td>0.712265</td>\n",
       "      <td>0.611243</td>\n",
       "    </tr>\n",
       "    <tr>\n",
       "      <th>2</th>\n",
       "      <td>0.156850</td>\n",
       "      <td>0.751619</td>\n",
       "      <td>0.125808</td>\n",
       "      <td>0.934813</td>\n",
       "      <td>0.890980</td>\n",
       "    </tr>\n",
       "    <tr>\n",
       "      <th>3</th>\n",
       "      <td>0.577498</td>\n",
       "      <td>0.416553</td>\n",
       "      <td>0.958605</td>\n",
       "      <td>0.466406</td>\n",
       "      <td>0.438299</td>\n",
       "    </tr>\n",
       "    <tr>\n",
       "      <th>4</th>\n",
       "      <td>0.146475</td>\n",
       "      <td>0.595873</td>\n",
       "      <td>0.296249</td>\n",
       "      <td>0.298640</td>\n",
       "      <td>0.541260</td>\n",
       "    </tr>\n",
       "    <tr>\n",
       "      <th>5</th>\n",
       "      <td>0.025412</td>\n",
       "      <td>0.096967</td>\n",
       "      <td>0.021481</td>\n",
       "      <td>0.411150</td>\n",
       "      <td>0.247707</td>\n",
       "    </tr>\n",
       "    <tr>\n",
       "      <th>6</th>\n",
       "      <td>0.971908</td>\n",
       "      <td>0.049278</td>\n",
       "      <td>0.386768</td>\n",
       "      <td>0.022257</td>\n",
       "      <td>0.071484</td>\n",
       "    </tr>\n",
       "    <tr>\n",
       "      <th>7</th>\n",
       "      <td>0.106524</td>\n",
       "      <td>0.588763</td>\n",
       "      <td>0.712823</td>\n",
       "      <td>0.291985</td>\n",
       "      <td>0.533685</td>\n",
       "    </tr>\n",
       "    <tr>\n",
       "      <th>8</th>\n",
       "      <td>0.123936</td>\n",
       "      <td>0.793543</td>\n",
       "      <td>0.241806</td>\n",
       "      <td>0.831690</td>\n",
       "      <td>0.000161</td>\n",
       "    </tr>\n",
       "    <tr>\n",
       "      <th>9</th>\n",
       "      <td>0.433214</td>\n",
       "      <td>0.079214</td>\n",
       "      <td>0.318688</td>\n",
       "      <td>0.188488</td>\n",
       "      <td>0.258164</td>\n",
       "    </tr>\n",
       "    <tr>\n",
       "      <th>10</th>\n",
       "      <td>0.952940</td>\n",
       "      <td>0.532123</td>\n",
       "      <td>0.856208</td>\n",
       "      <td>0.115835</td>\n",
       "      <td>0.180832</td>\n",
       "    </tr>\n",
       "    <tr>\n",
       "      <th>11</th>\n",
       "      <td>0.039351</td>\n",
       "      <td>0.102167</td>\n",
       "      <td>0.484469</td>\n",
       "      <td>0.522108</td>\n",
       "      <td>0.393098</td>\n",
       "    </tr>\n",
       "    <tr>\n",
       "      <th>12</th>\n",
       "      <td>0.002154</td>\n",
       "      <td>0.794694</td>\n",
       "      <td>0.975659</td>\n",
       "      <td>0.944962</td>\n",
       "      <td>0.647716</td>\n",
       "    </tr>\n",
       "    <tr>\n",
       "      <th>13</th>\n",
       "      <td>0.235716</td>\n",
       "      <td>0.901283</td>\n",
       "      <td>0.247188</td>\n",
       "      <td>0.673348</td>\n",
       "      <td>0.080467</td>\n",
       "    </tr>\n",
       "    <tr>\n",
       "      <th>14</th>\n",
       "      <td>0.944157</td>\n",
       "      <td>0.567089</td>\n",
       "      <td>0.897297</td>\n",
       "      <td>0.274762</td>\n",
       "      <td>0.421432</td>\n",
       "    </tr>\n",
       "    <tr>\n",
       "      <th>15</th>\n",
       "      <td>0.253440</td>\n",
       "      <td>0.473826</td>\n",
       "      <td>0.954259</td>\n",
       "      <td>0.061585</td>\n",
       "      <td>0.609902</td>\n",
       "    </tr>\n",
       "    <tr>\n",
       "      <th>16</th>\n",
       "      <td>0.036850</td>\n",
       "      <td>0.873443</td>\n",
       "      <td>0.570716</td>\n",
       "      <td>0.156167</td>\n",
       "      <td>0.404471</td>\n",
       "    </tr>\n",
       "    <tr>\n",
       "      <th>17</th>\n",
       "      <td>0.447267</td>\n",
       "      <td>0.383799</td>\n",
       "      <td>0.016154</td>\n",
       "      <td>0.188839</td>\n",
       "      <td>0.191933</td>\n",
       "    </tr>\n",
       "    <tr>\n",
       "      <th>18</th>\n",
       "      <td>0.939203</td>\n",
       "      <td>0.298806</td>\n",
       "      <td>0.565691</td>\n",
       "      <td>0.247291</td>\n",
       "      <td>0.533458</td>\n",
       "    </tr>\n",
       "    <tr>\n",
       "      <th>19</th>\n",
       "      <td>0.227725</td>\n",
       "      <td>0.351558</td>\n",
       "      <td>0.496221</td>\n",
       "      <td>0.786738</td>\n",
       "      <td>0.323273</td>\n",
       "    </tr>\n",
       "  </tbody>\n",
       "</table>\n",
       "</div>"
      ],
      "text/plain": [
       "           a         b         c         d         e\n",
       "0   0.750639  0.058822  0.235851  0.784497  0.057963\n",
       "1   0.546673  0.540018  0.145670  0.712265  0.611243\n",
       "2   0.156850  0.751619  0.125808  0.934813  0.890980\n",
       "3   0.577498  0.416553  0.958605  0.466406  0.438299\n",
       "4   0.146475  0.595873  0.296249  0.298640  0.541260\n",
       "5   0.025412  0.096967  0.021481  0.411150  0.247707\n",
       "6   0.971908  0.049278  0.386768  0.022257  0.071484\n",
       "7   0.106524  0.588763  0.712823  0.291985  0.533685\n",
       "8   0.123936  0.793543  0.241806  0.831690  0.000161\n",
       "9   0.433214  0.079214  0.318688  0.188488  0.258164\n",
       "10  0.952940  0.532123  0.856208  0.115835  0.180832\n",
       "11  0.039351  0.102167  0.484469  0.522108  0.393098\n",
       "12  0.002154  0.794694  0.975659  0.944962  0.647716\n",
       "13  0.235716  0.901283  0.247188  0.673348  0.080467\n",
       "14  0.944157  0.567089  0.897297  0.274762  0.421432\n",
       "15  0.253440  0.473826  0.954259  0.061585  0.609902\n",
       "16  0.036850  0.873443  0.570716  0.156167  0.404471\n",
       "17  0.447267  0.383799  0.016154  0.188839  0.191933\n",
       "18  0.939203  0.298806  0.565691  0.247291  0.533458\n",
       "19  0.227725  0.351558  0.496221  0.786738  0.323273"
      ]
     },
     "execution_count": 7,
     "metadata": {},
     "output_type": "execute_result"
    }
   ],
   "source": [
    "i = pd.DataFrame(np.random.rand(20,5),\n",
    "                columns = ['a','b','c','d','e'])\n",
    "i"
   ]
  },
  {
   "cell_type": "code",
   "execution_count": 8,
   "metadata": {},
   "outputs": [
    {
     "data": {
      "text/html": [
       "<div>\n",
       "<style scoped>\n",
       "    .dataframe tbody tr th:only-of-type {\n",
       "        vertical-align: middle;\n",
       "    }\n",
       "\n",
       "    .dataframe tbody tr th {\n",
       "        vertical-align: top;\n",
       "    }\n",
       "\n",
       "    .dataframe thead th {\n",
       "        text-align: right;\n",
       "    }\n",
       "</style>\n",
       "<table border=\"1\" class=\"dataframe\">\n",
       "  <thead>\n",
       "    <tr style=\"text-align: right;\">\n",
       "      <th></th>\n",
       "      <th>a</th>\n",
       "      <th>b</th>\n",
       "      <th>c</th>\n",
       "      <th>d</th>\n",
       "      <th>e</th>\n",
       "    </tr>\n",
       "  </thead>\n",
       "  <tbody>\n",
       "    <tr>\n",
       "      <th>0</th>\n",
       "      <td>0.750639</td>\n",
       "      <td>0.058822</td>\n",
       "      <td>0.235851</td>\n",
       "      <td>0.784497</td>\n",
       "      <td>0.057963</td>\n",
       "    </tr>\n",
       "    <tr>\n",
       "      <th>1</th>\n",
       "      <td>0.546673</td>\n",
       "      <td>0.540018</td>\n",
       "      <td>0.145670</td>\n",
       "      <td>0.712265</td>\n",
       "      <td>0.611243</td>\n",
       "    </tr>\n",
       "    <tr>\n",
       "      <th>2</th>\n",
       "      <td>0.156850</td>\n",
       "      <td>0.751619</td>\n",
       "      <td>0.125808</td>\n",
       "      <td>0.934813</td>\n",
       "      <td>0.890980</td>\n",
       "    </tr>\n",
       "    <tr>\n",
       "      <th>3</th>\n",
       "      <td>0.577498</td>\n",
       "      <td>0.416553</td>\n",
       "      <td>0.958605</td>\n",
       "      <td>0.466406</td>\n",
       "      <td>0.438299</td>\n",
       "    </tr>\n",
       "    <tr>\n",
       "      <th>4</th>\n",
       "      <td>0.146475</td>\n",
       "      <td>0.595873</td>\n",
       "      <td>0.296249</td>\n",
       "      <td>0.298640</td>\n",
       "      <td>0.541260</td>\n",
       "    </tr>\n",
       "  </tbody>\n",
       "</table>\n",
       "</div>"
      ],
      "text/plain": [
       "          a         b         c         d         e\n",
       "0  0.750639  0.058822  0.235851  0.784497  0.057963\n",
       "1  0.546673  0.540018  0.145670  0.712265  0.611243\n",
       "2  0.156850  0.751619  0.125808  0.934813  0.890980\n",
       "3  0.577498  0.416553  0.958605  0.466406  0.438299\n",
       "4  0.146475  0.595873  0.296249  0.298640  0.541260"
      ]
     },
     "execution_count": 8,
     "metadata": {},
     "output_type": "execute_result"
    }
   ],
   "source": [
    "i.head()"
   ]
  },
  {
   "cell_type": "code",
   "execution_count": 9,
   "metadata": {},
   "outputs": [
    {
     "data": {
      "text/html": [
       "<div>\n",
       "<style scoped>\n",
       "    .dataframe tbody tr th:only-of-type {\n",
       "        vertical-align: middle;\n",
       "    }\n",
       "\n",
       "    .dataframe tbody tr th {\n",
       "        vertical-align: top;\n",
       "    }\n",
       "\n",
       "    .dataframe thead th {\n",
       "        text-align: right;\n",
       "    }\n",
       "</style>\n",
       "<table border=\"1\" class=\"dataframe\">\n",
       "  <thead>\n",
       "    <tr style=\"text-align: right;\">\n",
       "      <th></th>\n",
       "      <th>a</th>\n",
       "      <th>b</th>\n",
       "      <th>c</th>\n",
       "      <th>d</th>\n",
       "      <th>e</th>\n",
       "    </tr>\n",
       "  </thead>\n",
       "  <tbody>\n",
       "    <tr>\n",
       "      <th>count</th>\n",
       "      <td>20.000000</td>\n",
       "      <td>20.000000</td>\n",
       "      <td>20.000000</td>\n",
       "      <td>20.000000</td>\n",
       "      <td>20.000000</td>\n",
       "    </tr>\n",
       "    <tr>\n",
       "      <th>mean</th>\n",
       "      <td>0.395897</td>\n",
       "      <td>0.462472</td>\n",
       "      <td>0.475380</td>\n",
       "      <td>0.445691</td>\n",
       "      <td>0.371876</td>\n",
       "    </tr>\n",
       "    <tr>\n",
       "      <th>std</th>\n",
       "      <td>0.349666</td>\n",
       "      <td>0.282104</td>\n",
       "      <td>0.323355</td>\n",
       "      <td>0.304733</td>\n",
       "      <td>0.236234</td>\n",
       "    </tr>\n",
       "    <tr>\n",
       "      <th>min</th>\n",
       "      <td>0.002154</td>\n",
       "      <td>0.049278</td>\n",
       "      <td>0.016154</td>\n",
       "      <td>0.022257</td>\n",
       "      <td>0.000161</td>\n",
       "    </tr>\n",
       "    <tr>\n",
       "      <th>25%</th>\n",
       "      <td>0.119583</td>\n",
       "      <td>0.249646</td>\n",
       "      <td>0.240317</td>\n",
       "      <td>0.188751</td>\n",
       "      <td>0.189157</td>\n",
       "    </tr>\n",
       "    <tr>\n",
       "      <th>50%</th>\n",
       "      <td>0.244578</td>\n",
       "      <td>0.502975</td>\n",
       "      <td>0.435619</td>\n",
       "      <td>0.354895</td>\n",
       "      <td>0.398785</td>\n",
       "    </tr>\n",
       "    <tr>\n",
       "      <th>75%</th>\n",
       "      <td>0.620784</td>\n",
       "      <td>0.634809</td>\n",
       "      <td>0.748669</td>\n",
       "      <td>0.730323</td>\n",
       "      <td>0.535578</td>\n",
       "    </tr>\n",
       "    <tr>\n",
       "      <th>max</th>\n",
       "      <td>0.971908</td>\n",
       "      <td>0.901283</td>\n",
       "      <td>0.975659</td>\n",
       "      <td>0.944962</td>\n",
       "      <td>0.890980</td>\n",
       "    </tr>\n",
       "  </tbody>\n",
       "</table>\n",
       "</div>"
      ],
      "text/plain": [
       "               a          b          c          d          e\n",
       "count  20.000000  20.000000  20.000000  20.000000  20.000000\n",
       "mean    0.395897   0.462472   0.475380   0.445691   0.371876\n",
       "std     0.349666   0.282104   0.323355   0.304733   0.236234\n",
       "min     0.002154   0.049278   0.016154   0.022257   0.000161\n",
       "25%     0.119583   0.249646   0.240317   0.188751   0.189157\n",
       "50%     0.244578   0.502975   0.435619   0.354895   0.398785\n",
       "75%     0.620784   0.634809   0.748669   0.730323   0.535578\n",
       "max     0.971908   0.901283   0.975659   0.944962   0.890980"
      ]
     },
     "execution_count": 9,
     "metadata": {},
     "output_type": "execute_result"
    }
   ],
   "source": [
    "i.describe()"
   ]
  },
  {
   "cell_type": "code",
   "execution_count": 10,
   "metadata": {},
   "outputs": [
    {
     "data": {
      "text/plain": [
       "array([[0.39589662],\n",
       "       [0.46247193],\n",
       "       [0.47538045],\n",
       "       [0.44569132],\n",
       "       [0.3718764 ]])"
      ]
     },
     "execution_count": 10,
     "metadata": {},
     "output_type": "execute_result"
    }
   ],
   "source": [
    "myX = i.mean()\n",
    "myX = myX[:, np.newaxis]\n",
    "myX"
   ]
  },
  {
   "cell_type": "code",
   "execution_count": 11,
   "metadata": {},
   "outputs": [
    {
     "data": {
      "text/plain": [
       "array([[11.87689852],\n",
       "       [13.87415781],\n",
       "       [14.26141345],\n",
       "       [13.37073949],\n",
       "       [11.15629186]])"
      ]
     },
     "execution_count": 11,
     "metadata": {},
     "output_type": "execute_result"
    }
   ],
   "source": [
    "myY = myX * 300 / 10\n",
    "myY"
   ]
  },
  {
   "cell_type": "code",
   "execution_count": 12,
   "metadata": {},
   "outputs": [
    {
     "data": {
      "text/plain": [
       "<matplotlib.collections.PathCollection at 0x509c290>"
      ]
     },
     "execution_count": 12,
     "metadata": {},
     "output_type": "execute_result"
    },
    {
     "data": {
      "image/png": "[encoded data removed]",
      "text/plain": [
       "<Figure size 432x288 with 1 Axes>"
      ]
     },
     "metadata": {
      "needs_background": "light"
     },
     "output_type": "display_data"
    }
   ],
   "source": [
    "plt.scatter(myX, myY)"
   ]
  },
  {
   "cell_type": "code",
   "execution_count": 13,
   "metadata": {},
   "outputs": [
    {
     "data": {
      "text/plain": [
       "array([-1.        , -0.93877551, -0.87755102, -0.81632653, -0.75510204,\n",
       "       -0.69387755, -0.63265306, -0.57142857, -0.51020408, -0.44897959,\n",
       "       -0.3877551 , -0.32653061, -0.26530612, -0.20408163, -0.14285714,\n",
       "       -0.08163265, -0.02040816,  0.04081633,  0.10204082,  0.16326531,\n",
       "        0.2244898 ,  0.28571429,  0.34693878,  0.40816327,  0.46938776,\n",
       "        0.53061224,  0.59183673,  0.65306122,  0.71428571,  0.7755102 ,\n",
       "        0.83673469,  0.89795918,  0.95918367,  1.02040816,  1.08163265,\n",
       "        1.14285714,  1.20408163,  1.26530612,  1.32653061,  1.3877551 ,\n",
       "        1.44897959,  1.51020408,  1.57142857,  1.63265306,  1.69387755,\n",
       "        1.75510204,  1.81632653,  1.87755102,  1.93877551,  2.        ])"
      ]
     },
     "execution_count": 13,
     "metadata": {},
     "output_type": "execute_result"
    }
   ],
   "source": [
    "myX_fit = np.linspace(-1,2)\n",
    "myX_fit"
   ]
  },
  {
   "cell_type": "code",
   "execution_count": 14,
   "metadata": {},
   "outputs": [],
   "source": [
    "from sklearn.linear_model import LinearRegression\n",
    "model = LinearRegression(fit_intercept = True)\n",
    "model.fit(myX, myY)\n",
    "Xfit = myX_fit[:, np.newaxis]\n",
    "yfit = model.predict(Xfit)"
   ]
  },
  {
   "cell_type": "code",
   "execution_count": 15,
   "metadata": {},
   "outputs": [
    {
     "data": {
      "text/plain": [
       "array([[-1.        ],\n",
       "       [-0.93877551],\n",
       "       [-0.87755102],\n",
       "       [-0.81632653],\n",
       "       [-0.75510204],\n",
       "       [-0.69387755],\n",
       "       [-0.63265306],\n",
       "       [-0.57142857],\n",
       "       [-0.51020408],\n",
       "       [-0.44897959],\n",
       "       [-0.3877551 ],\n",
       "       [-0.32653061],\n",
       "       [-0.26530612],\n",
       "       [-0.20408163],\n",
       "       [-0.14285714],\n",
       "       [-0.08163265],\n",
       "       [-0.02040816],\n",
       "       [ 0.04081633],\n",
       "       [ 0.10204082],\n",
       "       [ 0.16326531],\n",
       "       [ 0.2244898 ],\n",
       "       [ 0.28571429],\n",
       "       [ 0.34693878],\n",
       "       [ 0.40816327],\n",
       "       [ 0.46938776],\n",
       "       [ 0.53061224],\n",
       "       [ 0.59183673],\n",
       "       [ 0.65306122],\n",
       "       [ 0.71428571],\n",
       "       [ 0.7755102 ],\n",
       "       [ 0.83673469],\n",
       "       [ 0.89795918],\n",
       "       [ 0.95918367],\n",
       "       [ 1.02040816],\n",
       "       [ 1.08163265],\n",
       "       [ 1.14285714],\n",
       "       [ 1.20408163],\n",
       "       [ 1.26530612],\n",
       "       [ 1.32653061],\n",
       "       [ 1.3877551 ],\n",
       "       [ 1.44897959],\n",
       "       [ 1.51020408],\n",
       "       [ 1.57142857],\n",
       "       [ 1.63265306],\n",
       "       [ 1.69387755],\n",
       "       [ 1.75510204],\n",
       "       [ 1.81632653],\n",
       "       [ 1.87755102],\n",
       "       [ 1.93877551],\n",
       "       [ 2.        ]])"
      ]
     },
     "execution_count": 15,
     "metadata": {},
     "output_type": "execute_result"
    }
   ],
   "source": [
    "Xfit"
   ]
  },
  {
   "cell_type": "code",
   "execution_count": 17,
   "metadata": {},
   "outputs": [
    {
     "data": {
      "text/plain": [
       "array([[30.]])"
      ]
     },
     "execution_count": 17,
     "metadata": {},
     "output_type": "execute_result"
    }
   ],
   "source": [
    "model.coef_"
   ]
  },
  {
   "cell_type": "code",
   "execution_count": 18,
   "metadata": {},
   "outputs": [
    {
     "data": {
      "text/plain": [
       "array([-1.77635684e-15])"
      ]
     },
     "execution_count": 18,
     "metadata": {},
     "output_type": "execute_result"
    }
   ],
   "source": [
    "model.intercept_"
   ]
  },
  {
   "cell_type": "code",
   "execution_count": 19,
   "metadata": {},
   "outputs": [
    {
     "data": {
      "text/plain": [
       "[<matplotlib.lines.Line2D at 0x1395ff0>]"
      ]
     },
     "execution_count": 19,
     "metadata": {},
     "output_type": "execute_result"
    },
    {
     "data": {
      "image/png": "[encoded data removed]",
      "text/plain": [
       "<Figure size 432x288 with 1 Axes>"
      ]
     },
     "metadata": {
      "needs_background": "light"
     },
     "output_type": "display_data"
    }
   ],
   "source": [
    "plt.scatter(myX, myY)\n",
    "plt.plot(Xfit, yfit)"
   ]
  },
  {
   "cell_type": "code",
   "execution_count": null,
   "metadata": {},
   "outputs": [],
   "source": []
  }
 ],
 "metadata": {
  "kernelspec": {
   "display_name": "Python 3",
   "language": "python",
   "name": "python3"
  },
  "language_info": {
   "codemirror_mode": {
    "name": "ipython",
    "version": 3
   },
   "file_extension": ".py",
   "mimetype": "text/x-python",
   "name": "python",
   "nbconvert_exporter": "python",
   "pygments_lexer": "ipython3",
   "version": "3.7.0"
  }
 },
 "nbformat": 4,
 "nbformat_minor": 2
}
