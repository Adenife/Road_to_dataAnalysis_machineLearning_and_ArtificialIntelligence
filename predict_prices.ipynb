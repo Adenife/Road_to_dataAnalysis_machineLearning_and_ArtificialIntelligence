{
 "cells": [
  {
   "cell_type": "markdown",
   "metadata": {},
   "source": [
    "C:/Users/HP/Downloads/Compressed/price-volume-data-for-all-us-stocks-etfs/Data/Stocks/aa.us.txt"
   ]
  },
  {
   "cell_type": "code",
   "execution_count": 1,
   "metadata": {},
   "outputs": [],
   "source": [
    " import csv"
   ]
  },
  {
   "cell_type": "code",
   "execution_count": 2,
   "metadata": {},
   "outputs": [],
   "source": [
    "import numpy as np"
   ]
  },
  {
   "cell_type": "code",
   "execution_count": 3,
   "metadata": {},
   "outputs": [],
   "source": [
    "from sklearn.svm import SVR"
   ]
  },
  {
   "cell_type": "code",
   "execution_count": 4,
   "metadata": {},
   "outputs": [],
   "source": [
    "import matplotlib.pyplot as plt"
   ]
  },
  {
   "cell_type": "code",
   "execution_count": 5,
   "metadata": {},
   "outputs": [],
   "source": [
    "dates = []\n",
    "prices = []"
   ]
  },
  {
   "cell_type": "code",
   "execution_count": 6,
   "metadata": {},
   "outputs": [],
   "source": [
    "def get_data(filename):\n",
    "    with open(filename, 'r') as csvfile:\n",
    "        csvFileReader = csv.reader(csvfile)\n",
    "        next(csvFileReader)\n",
    "        for row in csvFileReader:\n",
    "            dates.append(int(row[0].split('-')[0]))\n",
    "            prices.append(float(row[1]))\n",
    "    return"
   ]
  },
  {
   "cell_type": "code",
   "execution_count": 7,
   "metadata": {},
   "outputs": [],
   "source": [
    "def predict_prices(dates, prices, x):\n",
    "    dates = np.reshape(dates, (len(dates), 1))\n",
    "    \n",
    "    svr_lin = SVR(kernel = 'linear', C = 1e3)\n",
    "    svr_poly = SVR(kernel = 'poly', C = 1e3, degree = 2)\n",
    "    svr_rbf = SVR(kernel = 'rbf', C = 1e3, gamma = 0.1)\n",
    "    svr_lin.fit(dates, prices)\n",
    "    svr_poly.fit(dates, prices)\n",
    "    svr_rbf.fit(dates, prices)\n",
    "    \n",
    "    plt.scatter(dates, prices, color = 'red', label = 'Data')\n",
    "    plt.plot(dates, svr_rbf.predict(dates), color = 'green', label = 'RBF model')\n",
    "    plt.plot(dates, svr_lin.predict(dates), color = 'blue', label = 'Linear model')\n",
    "    plt.plot(dates, svr_poly.predict(dates), color = 'brown', label = 'Polynomial model')\n",
    "    plt.xlabel('Date')\n",
    "    plt.ylabel('Price')\n",
    "    plt.title('Support Vector Regression')\n",
    "    plt.legend()\n",
    "    plt.show()\n",
    "    \n",
    "    return svr_rbf.predict(x)[0], svr_lin.predict(x)[0], svr_poly.predict(x)[0]\n"
   ]
  },
  {
   "cell_type": "code",
   "execution_count": null,
   "metadata": {},
   "outputs": [],
   "source": [
    "get_data('C:/Users/HP/Downloads/Compressed/price-volume-data-for-all-us-stocks-etfs/Data/Stocks/aa.us.txt')\n",
    "\n",
    "predicted_price = predict_prices(dates, prices, 29)\n",
    "\n",
    "#print(predicted_price)"
   ]
  },
  {
   "cell_type": "code",
   "execution_count": null,
   "metadata": {},
   "outputs": [],
   "source": [
    "import pandas as pd\n",
    "#saving the data\n",
    "results = pd.DataFrame({'Date': dates,\n",
    "                       'Price': prices})\n",
    "results.to_csv('Stock.csv', index = False)"
   ]
  },
  {
   "cell_type": "code",
   "execution_count": null,
   "metadata": {},
   "outputs": [],
   "source": []
  }
 ],
 "metadata": {
  "kernelspec": {
   "display_name": "Python 3",
   "language": "python",
   "name": "python3"
  },
  "language_info": {
   "codemirror_mode": {
    "name": "ipython",
    "version": 3
   },
   "file_extension": ".py",
   "mimetype": "text/x-python",
   "name": "python",
   "nbconvert_exporter": "python",
   "pygments_lexer": "ipython3",
   "version": "3.7.0"
  }
 },
 "nbformat": 4,
 "nbformat_minor": 2
}
